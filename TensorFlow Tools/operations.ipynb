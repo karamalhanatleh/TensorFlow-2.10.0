{
 "cells": [
  {
   "cell_type": "markdown",
   "id": "2e0d8dd1",
   "metadata": {},
   "source": [
    "# operations"
   ]
  },
  {
   "cell_type": "code",
   "execution_count": 40,
   "id": "58965d11",
   "metadata": {},
   "outputs": [],
   "source": [
    "#import\n",
    "import tensorflow as tf\n",
    "from tensorflow.compat.v1 import Session\n",
    "import numpy as np\n"
   ]
  },
  {
   "cell_type": "code",
   "execution_count": 15,
   "id": "ad381125",
   "metadata": {},
   "outputs": [],
   "source": [
    "tf.compat.v1.disable_eager_execution() # need to disable eager in TF2. x  #sessions\n"
   ]
  },
  {
   "cell_type": "code",
   "execution_count": null,
   "id": "9ec4073d",
   "metadata": {},
   "outputs": [],
   "source": []
  },
  {
   "cell_type": "code",
   "execution_count": 16,
   "id": "177036b6",
   "metadata": {},
   "outputs": [
    {
     "name": "stdout",
     "output_type": "stream",
     "text": [
      "b'hi people'\n"
     ]
    }
   ],
   "source": [
    "s1= tf.constant('hi ')\n",
    "s2=tf.constant(\"people\")\n",
    "\n",
    "s3=tf.add(s1,s2)\n",
    "sess=  tf.compat.v1.Session() \n",
    "print(sess.run(s3))"
   ]
  },
  {
   "cell_type": "code",
   "execution_count": null,
   "id": "df51825c",
   "metadata": {},
   "outputs": [],
   "source": []
  },
  {
   "cell_type": "code",
   "execution_count": 18,
   "id": "a7647ed8",
   "metadata": {},
   "outputs": [
    {
     "name": "stdout",
     "output_type": "stream",
     "text": [
      "600\n"
     ]
    }
   ],
   "source": [
    "s1=tf.constant(20)\n",
    "s2=tf.constant(30)\n",
    "\n",
    "s3=tf.multiply(s1,s2)\n",
    "sess=Session()\n",
    "print(sess.run(s3))"
   ]
  },
  {
   "cell_type": "code",
   "execution_count": null,
   "id": "0823a3a0",
   "metadata": {},
   "outputs": [],
   "source": []
  },
  {
   "cell_type": "code",
   "execution_count": 19,
   "id": "6667ea10",
   "metadata": {},
   "outputs": [
    {
     "name": "stdout",
     "output_type": "stream",
     "text": [
      "-10\n"
     ]
    }
   ],
   "source": [
    "s1=tf.constant(20)\n",
    "s2=tf.constant(30)\n",
    "\n",
    "s3=tf.subtract(s1,s2)\n",
    "sess=Session()\n",
    "print(sess.run(s3))"
   ]
  },
  {
   "cell_type": "code",
   "execution_count": 20,
   "id": "217f3c2d",
   "metadata": {},
   "outputs": [
    {
     "name": "stdout",
     "output_type": "stream",
     "text": [
      "0.6666666666666666\n"
     ]
    }
   ],
   "source": [
    "s1=tf.constant(20)\n",
    "s2=tf.constant(30)\n",
    "\n",
    "s3=tf.divide(s1,s2)\n",
    "sess=Session()\n",
    "print(sess.run(s3))"
   ]
  },
  {
   "cell_type": "code",
   "execution_count": 22,
   "id": "56ede6bc",
   "metadata": {},
   "outputs": [
    {
     "name": "stdout",
     "output_type": "stream",
     "text": [
      "8\n"
     ]
    }
   ],
   "source": [
    "s1=tf.constant(2)\n",
    "s2=tf.constant(3)\n",
    "\n",
    "s3=tf.pow(s1,s2)\n",
    "sess=Session()\n",
    "print(sess.run(s3))"
   ]
  },
  {
   "cell_type": "code",
   "execution_count": null,
   "id": "31707517",
   "metadata": {},
   "outputs": [],
   "source": []
  },
  {
   "cell_type": "code",
   "execution_count": 24,
   "id": "d630b2f8",
   "metadata": {},
   "outputs": [
    {
     "name": "stdout",
     "output_type": "stream",
     "text": [
      "[35 36 37 38]\n"
     ]
    }
   ],
   "source": [
    "s1=tf.constant([5,6,7,8])\n",
    "s2=tf.constant(30)\n",
    "\n",
    "s3=tf.add(s1,s2)\n",
    "sess=Session()\n",
    "print(sess.run(s3))"
   ]
  },
  {
   "cell_type": "code",
   "execution_count": 28,
   "id": "d6e446c5",
   "metadata": {},
   "outputs": [
    {
     "name": "stdout",
     "output_type": "stream",
     "text": [
      "[   1    4   16   64  256 1024]\n"
     ]
    }
   ],
   "source": [
    "s1=tf.constant(2)\n",
    "s2=tf.constant(list(range(0,11,2)))\n",
    "\n",
    "s3=tf.pow(s1,s2)\n",
    "sess=Session()\n",
    "print(sess.run(s3))"
   ]
  },
  {
   "cell_type": "code",
   "execution_count": null,
   "id": "963fa55f",
   "metadata": {},
   "outputs": [],
   "source": []
  },
  {
   "cell_type": "code",
   "execution_count": 29,
   "id": "5fab49f5",
   "metadata": {},
   "outputs": [
    {
     "name": "stdout",
     "output_type": "stream",
     "text": [
      "[ 6  8 10 12]\n"
     ]
    }
   ],
   "source": [
    "s1=tf.constant([5,6,7,8])\n",
    "s2=tf.constant([1,2,3,4])\n",
    "\n",
    "s3=tf.add(s1,s2)\n",
    "sess=Session()\n",
    "print(sess.run(s3))"
   ]
  },
  {
   "cell_type": "code",
   "execution_count": 32,
   "id": "96320666",
   "metadata": {},
   "outputs": [
    {
     "name": "stdout",
     "output_type": "stream",
     "text": [
      "[[16.]]\n"
     ]
    }
   ],
   "source": [
    "\n",
    "matrix1=tf.constant( [   [5.,3.]  ] )\n",
    "matrix2=tf.constant( [   [2.],\n",
    "                     \t [2.]] )\n",
    "\n",
    "proudct =tf.matmul(matrix1 ,matrix2)\n",
    "with Session() as sess:\n",
    "    print(sess.run(proudct))"
   ]
  },
  {
   "cell_type": "code",
   "execution_count": null,
   "id": "c8421d2f",
   "metadata": {},
   "outputs": [],
   "source": []
  },
  {
   "cell_type": "code",
   "execution_count": 42,
   "id": "229db3ad",
   "metadata": {},
   "outputs": [
    {
     "name": "stdout",
     "output_type": "stream",
     "text": [
      "[[5 6]\n",
      " [2 6]\n",
      " [4 1]\n",
      " [4 7]]\n"
     ]
    }
   ],
   "source": [
    "matrix1= tf.constant(np.random.randint(8,size=(2,4)))\n",
    "matrix2=tf.compat.v1.matrix_transpose(matrix1)\n",
    "\n",
    "with Session() as sess:\n",
    "    print(sess.run(matrix2))"
   ]
  },
  {
   "cell_type": "code",
   "execution_count": null,
   "id": "fb8c55bc",
   "metadata": {},
   "outputs": [],
   "source": []
  }
 ],
 "metadata": {
  "kernelspec": {
   "display_name": "Python 3 (ipykernel)",
   "language": "python",
   "name": "python3"
  },
  "language_info": {
   "codemirror_mode": {
    "name": "ipython",
    "version": 3
   },
   "file_extension": ".py",
   "mimetype": "text/x-python",
   "name": "python",
   "nbconvert_exporter": "python",
   "pygments_lexer": "ipython3",
   "version": "3.9.13"
  }
 },
 "nbformat": 4,
 "nbformat_minor": 5
}
