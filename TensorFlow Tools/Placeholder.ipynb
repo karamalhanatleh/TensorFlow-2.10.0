{
 "cells": [
  {
   "cell_type": "markdown",
   "id": "fa050cf0",
   "metadata": {},
   "source": [
    "# Placeholder"
   ]
  },
  {
   "cell_type": "code",
   "execution_count": 1,
   "id": "650de978",
   "metadata": {},
   "outputs": [],
   "source": [
    "#import \n",
    "import tensorflow as tf\n"
   ]
  },
  {
   "cell_type": "code",
   "execution_count": 27,
   "id": "6eda225f",
   "metadata": {},
   "outputs": [
    {
     "data": {
      "text/plain": [
       "'2.10.0'"
      ]
     },
     "execution_count": 27,
     "metadata": {},
     "output_type": "execute_result"
    }
   ],
   "source": [
    "tf.__version__"
   ]
  },
  {
   "cell_type": "code",
   "execution_count": 8,
   "id": "e2a9f912",
   "metadata": {},
   "outputs": [],
   "source": [
    "tf.compat.v1.disable_eager_execution()\n",
    "\n"
   ]
  },
  {
   "cell_type": "code",
   "execution_count": 13,
   "id": "6c984046",
   "metadata": {},
   "outputs": [
    {
     "name": "stdout",
     "output_type": "stream",
     "text": [
      "3.0\n"
     ]
    }
   ],
   "source": [
    "a = tf.compat.v1.placeholder(tf.float32)\n",
    "with tf.compat.v1.Session() as sess:\n",
    "    result = sess.run(a, feed_dict={a:3}  )\n",
    "    print(result)"
   ]
  },
  {
   "cell_type": "code",
   "execution_count": null,
   "id": "dd8a8b77",
   "metadata": {},
   "outputs": [],
   "source": []
  },
  {
   "cell_type": "code",
   "execution_count": 14,
   "id": "9468103a",
   "metadata": {},
   "outputs": [
    {
     "name": "stdout",
     "output_type": "stream",
     "text": [
      "6.0\n"
     ]
    }
   ],
   "source": [
    "a=tf.compat.v1.placeholder(tf.float32)\n",
    "b=a*2\n",
    "with tf.compat.v1.Session() as sess:\n",
    "    result =sess.run( b , feed_dict={a:3})\n",
    "    print(result)"
   ]
  },
  {
   "cell_type": "code",
   "execution_count": null,
   "id": "a151f395",
   "metadata": {},
   "outputs": [],
   "source": [
    "\n"
   ]
  },
  {
   "cell_type": "code",
   "execution_count": 16,
   "id": "659edda4",
   "metadata": {},
   "outputs": [
    {
     "name": "stdout",
     "output_type": "stream",
     "text": [
      "770.5\n"
     ]
    }
   ],
   "source": [
    "x= tf.compat.v1.placeholder(tf.float32)\n",
    "y= tf.compat.v1.placeholder(tf.float32)\n",
    "z= tf.compat.v1.placeholder(tf.float32)\n",
    "w= tf.compat.v1.placeholder(tf.float32)\n",
    "\n",
    "b= x*2 + 3*y**4 -4/z +w-9\n",
    "\n",
    "with tf.compat.v1.Session() as sess:\n",
    "    result = sess.run(b , feed_dict={x:3 , y:4 , z:8 , w:6})\n",
    "    print(result)"
   ]
  },
  {
   "cell_type": "code",
   "execution_count": null,
   "id": "f4c53087",
   "metadata": {},
   "outputs": [],
   "source": []
  },
  {
   "cell_type": "code",
   "execution_count": 17,
   "id": "bb0b149b",
   "metadata": {},
   "outputs": [
    {
     "name": "stdout",
     "output_type": "stream",
     "text": [
      "770.5\n"
     ]
    }
   ],
   "source": [
    "x= tf.compat.v1.placeholder(tf.float32)\n",
    "y= tf.compat.v1.placeholder(tf.float32)\n",
    "z= tf.compat.v1.constant(8,tf.float32)\n",
    "w= tf.compat.v1.constant(6,tf.float32)\n",
    "\n",
    "b= x*2 + 3*y**4 -4/z +w-9\n",
    "\n",
    "with tf.compat.v1.Session() as sess:\n",
    "    result = sess.run(b , feed_dict={x:3 , y:4})\n",
    "    print(result)"
   ]
  },
  {
   "cell_type": "code",
   "execution_count": null,
   "id": "61c6e9e1",
   "metadata": {},
   "outputs": [],
   "source": []
  },
  {
   "cell_type": "code",
   "execution_count": 19,
   "id": "b1f9b790",
   "metadata": {},
   "outputs": [
    {
     "name": "stdout",
     "output_type": "stream",
     "text": [
      "25.0\n"
     ]
    }
   ],
   "source": [
    "x= tf.compat.v1.placeholder(tf.float32)\n",
    "y=x**2\n",
    "with tf.compat.v1.Session() as sess:\n",
    "    print(sess.run(y , feed_dict={x:5} ))"
   ]
  },
  {
   "cell_type": "code",
   "execution_count": null,
   "id": "b7376d81",
   "metadata": {},
   "outputs": [],
   "source": []
  },
  {
   "cell_type": "code",
   "execution_count": 21,
   "id": "67f48280",
   "metadata": {},
   "outputs": [
    {
     "name": "stdout",
     "output_type": "stream",
     "text": [
      "[  4.   9.  25. 100.]\n"
     ]
    }
   ],
   "source": [
    "x=tf.compat.v1.placeholder(tf.float32)\n",
    "y=x**2\n",
    "with tf.compat.v1.Session() as sess:\n",
    "    print(sess.run(y,{x:[2,3,5,10]}))"
   ]
  },
  {
   "cell_type": "code",
   "execution_count": null,
   "id": "91dcddf2",
   "metadata": {},
   "outputs": [],
   "source": []
  },
  {
   "cell_type": "code",
   "execution_count": 22,
   "id": "a3814240",
   "metadata": {},
   "outputs": [
    {
     "name": "stdout",
     "output_type": "stream",
     "text": [
      "[  25.   36.   49.   64.   81.  100.  121.  144.  169.  196.  225.  256.\n",
      "  289.  324.  361.  400.  441.  484.  529.  576.  625.  676.  729.  784.\n",
      "  841.  900.  961. 1024. 1089. 1156. 1225. 1296. 1369. 1444. 1521. 1600.\n",
      " 1681. 1764. 1849. 1936. 2025. 2116. 2209. 2304. 2401. 2500. 2601. 2704.\n",
      " 2809. 2916. 3025. 3136. 3249. 3364. 3481. 3600. 3721. 3844. 3969. 4096.\n",
      " 4225. 4356. 4489. 4624. 4761. 4900. 5041. 5184. 5329. 5476. 5625. 5776.\n",
      " 5929. 6084. 6241. 6400. 6561. 6724. 6889. 7056. 7225. 7396. 7569. 7744.\n",
      " 7921. 8100. 8281. 8464. 8649. 8836. 9025. 9216. 9409. 9604. 9801.]\n"
     ]
    }
   ],
   "source": [
    "x=tf.compat.v1.placeholder(tf.float32)\n",
    "y=x**2\n",
    "\n",
    "with tf.compat.v1.Session() as sess:\n",
    "    print(sess.run(y , {x:list(range(5,100))}))"
   ]
  },
  {
   "cell_type": "code",
   "execution_count": null,
   "id": "d4d8c70f",
   "metadata": {},
   "outputs": [],
   "source": []
  },
  {
   "cell_type": "code",
   "execution_count": 26,
   "id": "dea5d7f7",
   "metadata": {},
   "outputs": [
    {
     "name": "stdout",
     "output_type": "stream",
     "text": [
      "[22. 27. 32. 52.]\n"
     ]
    }
   ],
   "source": [
    "w=tf.compat.v1.constant([5.0])\n",
    "b=tf.Variable([7.0],tf.float32)\n",
    "\n",
    "x=tf.compat.v1.placeholder(tf.float32)\n",
    "LinearRegressionModel =w*x + b\n",
    "\n",
    "with tf.compat.v1.Session() as sess:\n",
    "    sess.run(tf.compat.v1.global_variables_initializer() )\n",
    "    print(sess.run(LinearRegressionModel ,{x:[3,4,5,9]}))"
   ]
  },
  {
   "cell_type": "code",
   "execution_count": null,
   "id": "75e39a84",
   "metadata": {},
   "outputs": [],
   "source": []
  }
 ],
 "metadata": {
  "kernelspec": {
   "display_name": "Python 3 (ipykernel)",
   "language": "python",
   "name": "python3"
  },
  "language_info": {
   "codemirror_mode": {
    "name": "ipython",
    "version": 3
   },
   "file_extension": ".py",
   "mimetype": "text/x-python",
   "name": "python",
   "nbconvert_exporter": "python",
   "pygments_lexer": "ipython3",
   "version": "3.9.13"
  }
 },
 "nbformat": 4,
 "nbformat_minor": 5
}
