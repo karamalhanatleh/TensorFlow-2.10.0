{
 "cells": [
  {
   "cell_type": "markdown",
   "id": "ddb7718e",
   "metadata": {},
   "source": [
    "# Placeholder"
   ]
  },
  {
   "cell_type": "code",
   "execution_count": 1,
   "id": "91930055",
   "metadata": {},
   "outputs": [],
   "source": [
    "#import \n",
    "import tensorflow as tf\n"
   ]
  },
  {
   "cell_type": "code",
   "execution_count": 8,
   "id": "d4ce3ea4",
   "metadata": {},
   "outputs": [],
   "source": [
    "tf.compat.v1.disable_eager_execution()\n",
    "\n"
   ]
  },
  {
   "cell_type": "code",
   "execution_count": 13,
   "id": "dfaddf4e",
   "metadata": {},
   "outputs": [
    {
     "name": "stdout",
     "output_type": "stream",
     "text": [
      "3.0\n"
     ]
    }
   ],
   "source": [
    "a = tf.compat.v1.placeholder(tf.float32)\n",
    "with tf.compat.v1.Session() as sess:\n",
    "    result = sess.run(a, feed_dict={a:3}  )\n",
    "    print(result)"
   ]
  },
  {
   "cell_type": "code",
   "execution_count": null,
   "id": "5afa58b5",
   "metadata": {},
   "outputs": [],
   "source": []
  },
  {
   "cell_type": "code",
   "execution_count": 14,
   "id": "f261b8c2",
   "metadata": {},
   "outputs": [
    {
     "name": "stdout",
     "output_type": "stream",
     "text": [
      "6.0\n"
     ]
    }
   ],
   "source": [
    "a=tf.compat.v1.placeholder(tf.float32)\n",
    "b=a*2\n",
    "with tf.compat.v1.Session() as sess:\n",
    "    result =sess.run( b , feed_dict={a:3})\n",
    "    print(result)"
   ]
  },
  {
   "cell_type": "code",
   "execution_count": null,
   "id": "5b8fd305",
   "metadata": {},
   "outputs": [],
   "source": [
    "\n"
   ]
  },
  {
   "cell_type": "code",
   "execution_count": 16,
   "id": "7367f152",
   "metadata": {},
   "outputs": [
    {
     "name": "stdout",
     "output_type": "stream",
     "text": [
      "770.5\n"
     ]
    }
   ],
   "source": [
    "x= tf.compat.v1.placeholder(tf.float32)\n",
    "y= tf.compat.v1.placeholder(tf.float32)\n",
    "z= tf.compat.v1.placeholder(tf.float32)\n",
    "w= tf.compat.v1.placeholder(tf.float32)\n",
    "\n",
    "b= x*2 + 3*y**4 -4/z +w-9\n",
    "\n",
    "with tf.compat.v1.Session() as sess:\n",
    "    result = sess.run(b , feed_dict={x:3 , y:4 , z:8 , w:6})\n",
    "    print(result)"
   ]
  },
  {
   "cell_type": "code",
   "execution_count": null,
   "id": "f55d1f3d",
   "metadata": {},
   "outputs": [],
   "source": []
  },
  {
   "cell_type": "code",
   "execution_count": 17,
   "id": "6a460c73",
   "metadata": {},
   "outputs": [
    {
     "name": "stdout",
     "output_type": "stream",
     "text": [
      "770.5\n"
     ]
    }
   ],
   "source": [
    "x= tf.compat.v1.placeholder(tf.float32)\n",
    "y= tf.compat.v1.placeholder(tf.float32)\n",
    "z= tf.compat.v1.constant(8,tf.float32)\n",
    "w= tf.compat.v1.constant(6,tf.float32)\n",
    "\n",
    "b= x*2 + 3*y**4 -4/z +w-9\n",
    "\n",
    "with tf.compat.v1.Session() as sess:\n",
    "    result = sess.run(b , feed_dict={x:3 , y:4})\n",
    "    print(result)"
   ]
  },
  {
   "cell_type": "code",
   "execution_count": null,
   "id": "4ce83adc",
   "metadata": {},
   "outputs": [],
   "source": []
  },
  {
   "cell_type": "code",
   "execution_count": 19,
   "id": "a7c5fec8",
   "metadata": {},
   "outputs": [
    {
     "name": "stdout",
     "output_type": "stream",
     "text": [
      "25.0\n"
     ]
    }
   ],
   "source": [
    "x= tf.compat.v1.placeholder(tf.float32)\n",
    "y=x**2\n",
    "with tf.compat.v1.Session() as sess:\n",
    "    print(sess.run(y , feed_dict={x:5} ))"
   ]
  },
  {
   "cell_type": "code",
   "execution_count": null,
   "id": "ca3ff7b8",
   "metadata": {},
   "outputs": [],
   "source": []
  },
  {
   "cell_type": "code",
   "execution_count": 21,
   "id": "cd43894f",
   "metadata": {},
   "outputs": [
    {
     "name": "stdout",
     "output_type": "stream",
     "text": [
      "[  4.   9.  25. 100.]\n"
     ]
    }
   ],
   "source": [
    "x=tf.compat.v1.placeholder(tf.float32)\n",
    "y=x**2\n",
    "with tf.compat.v1.Session() as sess:\n",
    "    print(sess.run(y,{x:[2,3,5,10]}))"
   ]
  },
  {
   "cell_type": "code",
   "execution_count": null,
   "id": "8e3a0daf",
   "metadata": {},
   "outputs": [],
   "source": []
  },
  {
   "cell_type": "code",
   "execution_count": 22,
   "id": "28e830c0",
   "metadata": {},
   "outputs": [
    {
     "name": "stdout",
     "output_type": "stream",
     "text": [
      "[  25.   36.   49.   64.   81.  100.  121.  144.  169.  196.  225.  256.\n",
      "  289.  324.  361.  400.  441.  484.  529.  576.  625.  676.  729.  784.\n",
      "  841.  900.  961. 1024. 1089. 1156. 1225. 1296. 1369. 1444. 1521. 1600.\n",
      " 1681. 1764. 1849. 1936. 2025. 2116. 2209. 2304. 2401. 2500. 2601. 2704.\n",
      " 2809. 2916. 3025. 3136. 3249. 3364. 3481. 3600. 3721. 3844. 3969. 4096.\n",
      " 4225. 4356. 4489. 4624. 4761. 4900. 5041. 5184. 5329. 5476. 5625. 5776.\n",
      " 5929. 6084. 6241. 6400. 6561. 6724. 6889. 7056. 7225. 7396. 7569. 7744.\n",
      " 7921. 8100. 8281. 8464. 8649. 8836. 9025. 9216. 9409. 9604. 9801.]\n"
     ]
    }
   ],
   "source": [
    "x=tf.compat.v1.placeholder(tf.float32)\n",
    "y=x**2\n",
    "\n",
    "with tf.compat.v1.Session() as sess:\n",
    "    print(sess.run(y , {x:list(range(5,100))}))"
   ]
  },
  {
   "cell_type": "code",
   "execution_count": null,
   "id": "edb8b776",
   "metadata": {},
   "outputs": [],
   "source": []
  },
  {
   "cell_type": "code",
   "execution_count": 26,
   "id": "b002ac6b",
   "metadata": {},
   "outputs": [
    {
     "name": "stdout",
     "output_type": "stream",
     "text": [
      "[22. 27. 32. 52.]\n"
     ]
    }
   ],
   "source": [
    "w=tf.compat.v1.constant([5.0])\n",
    "b=tf.Variable([7.0],tf.float32)\n",
    "\n",
    "x=tf.compat.v1.placeholder(tf.float32)\n",
    "LinearRegressionModel =w*x + b\n",
    "\n",
    "with tf.compat.v1.Session() as sess:\n",
    "    sess.run(tf.compat.v1.global_variables_initializer() )\n",
    "    print(sess.run(LinearRegressionModel ,{x:[3,4,5,9]}))"
   ]
  },
  {
   "cell_type": "code",
   "execution_count": null,
   "id": "42338437",
   "metadata": {},
   "outputs": [],
   "source": []
  }
 ],
 "metadata": {
  "kernelspec": {
   "display_name": "Python 3 (ipykernel)",
   "language": "python",
   "name": "python3"
  },
  "language_info": {
   "codemirror_mode": {
    "name": "ipython",
    "version": 3
   },
   "file_extension": ".py",
   "mimetype": "text/x-python",
   "name": "python",
   "nbconvert_exporter": "python",
   "pygments_lexer": "ipython3",
   "version": "3.9.13"
  }
 },
 "nbformat": 4,
 "nbformat_minor": 5
}
