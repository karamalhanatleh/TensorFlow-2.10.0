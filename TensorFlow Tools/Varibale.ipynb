{
 "cells": [
  {
   "cell_type": "markdown",
   "id": "12bf740a",
   "metadata": {},
   "source": [
    "# Varibale"
   ]
  },
  {
   "cell_type": "code",
   "execution_count": 18,
   "id": "10ea8d18",
   "metadata": {},
   "outputs": [],
   "source": [
    "#import\n",
    "import tensorflow as tf\n",
    "#from tensorflow.compat import v1 as tff"
   ]
  },
  {
   "cell_type": "code",
   "execution_count": null,
   "id": "448b19f1",
   "metadata": {},
   "outputs": [],
   "source": []
  },
  {
   "cell_type": "code",
   "execution_count": 6,
   "id": "6574c507",
   "metadata": {},
   "outputs": [
    {
     "data": {
      "text/plain": [
       "<tf.Operation 'init' type=NoOp>"
      ]
     },
     "execution_count": 6,
     "metadata": {},
     "output_type": "execute_result"
    }
   ],
   "source": [
    "tf.compat.v1.disable_eager_execution() # need to disable eager in TF2. x  #sessions\n",
    "tf.compat.v1.global_variables_initializer()    #Varibale"
   ]
  },
  {
   "cell_type": "code",
   "execution_count": null,
   "id": "18e1fe63",
   "metadata": {},
   "outputs": [],
   "source": []
  },
  {
   "cell_type": "code",
   "execution_count": 7,
   "id": "4a92c905",
   "metadata": {},
   "outputs": [],
   "source": [
    "a=tf.Variable(3)\n",
    "b=tf.Variable(3,tf.float32)\n",
    "c=tf.Variable([2,5,6,9,6])\n",
    "d=tf.Variable([  [2,5,6],\n",
    "              \t[8,5,8],\n",
    "              \t[8,8,1]])\n",
    "e=tf.Variable('My python tensorflow')"
   ]
  },
  {
   "cell_type": "code",
   "execution_count": 8,
   "id": "d5a5e63b",
   "metadata": {},
   "outputs": [
    {
     "name": "stdout",
     "output_type": "stream",
     "text": [
      "3\n",
      "3\n",
      "[2 5 6 9 6]\n",
      "[[2 5 6]\n",
      " [8 5 8]\n",
      " [8 8 1]]\n",
      "b'My python tensorflow'\n"
     ]
    }
   ],
   "source": [
    "with tf.compat.v1.Session() as sess:\n",
    "    sess.run(tf.compat.v1.global_variables_initializer())\n",
    "    print(sess.run(a))\n",
    "    print(sess.run(b))\n",
    "    print(sess.run(c))\n",
    "    print(sess.run(d))\n",
    "    print(sess.run(e))"
   ]
  },
  {
   "cell_type": "code",
   "execution_count": null,
   "id": "0fea7d05",
   "metadata": {},
   "outputs": [],
   "source": []
  },
  {
   "cell_type": "code",
   "execution_count": 9,
   "id": "e0d9a208",
   "metadata": {},
   "outputs": [
    {
     "name": "stdout",
     "output_type": "stream",
     "text": [
      "original price is : 20\n"
     ]
    }
   ],
   "source": [
    "price= tf.Variable(20)\n",
    "sess = tf.compat.v1.Session()\n",
    "init =tf.compat.v1.global_variables_initializer() \n",
    "sess.run(init)\n",
    "print(\"original price is :\" , sess.run(price))"
   ]
  },
  {
   "cell_type": "code",
   "execution_count": null,
   "id": "9b3c50fe",
   "metadata": {},
   "outputs": [],
   "source": []
  },
  {
   "cell_type": "code",
   "execution_count": 10,
   "id": "a296f2a6",
   "metadata": {},
   "outputs": [
    {
     "name": "stdout",
     "output_type": "stream",
     "text": [
      "the price is : 30\n",
      "the price is : 40\n",
      "the price is : 50\n",
      "the price is : 50\n"
     ]
    }
   ],
   "source": [
    "# Modify the value of the variable\n",
    "price =tf.Variable(30)\n",
    "sess.run(tf.compat.v1.global_variables_initializer())\n",
    "print('the price is :',sess.run(price))\n",
    "\n",
    "price=tf.Variable(40)\n",
    "sess.run(tf.compat.v1.global_variables_initializer())\n",
    "print('the price is :',sess.run(price))\n",
    "\n",
    "price=tf.Variable(50)\n",
    "sess.run(tf.compat.v1.global_variables_initializer())\n",
    "print('the price is :',sess.run(price))\n",
    "\n",
    "\n",
    "price=tf.Variable(50)\n",
    "sess.run(tf.compat.v1.global_variables_initializer())\n",
    "print('the price is :',sess.run(price))"
   ]
  },
  {
   "cell_type": "code",
   "execution_count": null,
   "id": "4b183c6b",
   "metadata": {},
   "outputs": [],
   "source": []
  },
  {
   "cell_type": "code",
   "execution_count": 11,
   "id": "09d1ef13",
   "metadata": {},
   "outputs": [],
   "source": [
    "price=tf.compat.v1.assign(price,50)"
   ]
  },
  {
   "cell_type": "code",
   "execution_count": 12,
   "id": "4a374b41",
   "metadata": {},
   "outputs": [],
   "source": [
    "#from tensorflow.compat import v1 "
   ]
  },
  {
   "cell_type": "code",
   "execution_count": 13,
   "id": "d9b6218a",
   "metadata": {},
   "outputs": [
    {
     "name": "stdout",
     "output_type": "stream",
     "text": [
      "new price is :\n"
     ]
    },
    {
     "data": {
      "text/plain": [
       "55"
      ]
     },
     "execution_count": 13,
     "metadata": {},
     "output_type": "execute_result"
    }
   ],
   "source": [
    "price=tf.compat.v1.assign(price,55)\n",
    "print(\"new price is :\" )\n",
    "sess.run(price)"
   ]
  },
  {
   "cell_type": "code",
   "execution_count": 14,
   "id": "d3dc8e6b",
   "metadata": {},
   "outputs": [
    {
     "data": {
      "text/plain": [
       "55"
      ]
     },
     "execution_count": 14,
     "metadata": {},
     "output_type": "execute_result"
    }
   ],
   "source": [
    "sess.run(price)"
   ]
  },
  {
   "cell_type": "code",
   "execution_count": null,
   "id": "60b070ad",
   "metadata": {},
   "outputs": [],
   "source": []
  },
  {
   "cell_type": "code",
   "execution_count": 17,
   "id": "1f4168de",
   "metadata": {
    "collapsed": true
   },
   "outputs": [
    {
     "name": "stdout",
     "output_type": "stream",
     "text": [
      "215\n",
      "225\n",
      "235\n",
      "245\n",
      "255\n",
      "265\n",
      "275\n",
      "285\n",
      "295\n",
      "305\n",
      "315\n",
      "325\n",
      "335\n",
      "345\n",
      "355\n",
      "365\n",
      "375\n",
      "385\n",
      "395\n",
      "405\n",
      "415\n",
      "425\n",
      "435\n",
      "445\n",
      "455\n",
      "465\n",
      "475\n",
      "485\n",
      "495\n",
      "505\n",
      "515\n",
      "525\n",
      "535\n",
      "545\n",
      "555\n",
      "565\n",
      "575\n",
      "585\n",
      "595\n",
      "605\n",
      "615\n",
      "625\n",
      "635\n",
      "645\n",
      "655\n",
      "665\n",
      "675\n",
      "685\n",
      "695\n",
      "705\n",
      "715\n",
      "725\n",
      "735\n",
      "745\n",
      "755\n",
      "765\n",
      "775\n",
      "785\n",
      "795\n",
      "805\n",
      "815\n",
      "825\n",
      "835\n",
      "845\n",
      "855\n",
      "865\n",
      "875\n",
      "885\n",
      "895\n",
      "905\n",
      "915\n",
      "925\n",
      "935\n",
      "945\n",
      "955\n",
      "965\n",
      "975\n",
      "985\n",
      "995\n",
      "1005\n",
      "1015\n",
      "1025\n",
      "1035\n",
      "1045\n",
      "1055\n",
      "1065\n",
      "1075\n",
      "1085\n",
      "1095\n",
      "1105\n",
      "1115\n",
      "1125\n",
      "1135\n",
      "1145\n",
      "1155\n",
      "1165\n",
      "1175\n",
      "1185\n",
      "1195\n",
      "1205\n"
     ]
    }
   ],
   "source": [
    "for i in range(100):\n",
    "    price=tf.compat.v1.assign(price , price+10)\n",
    "    print(sess.run(price))"
   ]
  },
  {
   "cell_type": "code",
   "execution_count": null,
   "id": "eb1f75e1",
   "metadata": {},
   "outputs": [],
   "source": []
  },
  {
   "cell_type": "code",
   "execution_count": null,
   "id": "9954e215",
   "metadata": {},
   "outputs": [],
   "source": []
  },
  {
   "cell_type": "code",
   "execution_count": null,
   "id": "12715903",
   "metadata": {},
   "outputs": [],
   "source": []
  },
  {
   "cell_type": "code",
   "execution_count": null,
   "id": "eba00e3b",
   "metadata": {},
   "outputs": [],
   "source": []
  },
  {
   "cell_type": "code",
   "execution_count": null,
   "id": "ab60865f",
   "metadata": {},
   "outputs": [],
   "source": []
  },
  {
   "cell_type": "code",
   "execution_count": null,
   "id": "f4db0bfc",
   "metadata": {},
   "outputs": [],
   "source": []
  },
  {
   "cell_type": "code",
   "execution_count": null,
   "id": "84e134f3",
   "metadata": {},
   "outputs": [],
   "source": []
  }
 ],
 "metadata": {
  "kernelspec": {
   "display_name": "Python 3 (ipykernel)",
   "language": "python",
   "name": "python3"
  },
  "language_info": {
   "codemirror_mode": {
    "name": "ipython",
    "version": 3
   },
   "file_extension": ".py",
   "mimetype": "text/x-python",
   "name": "python",
   "nbconvert_exporter": "python",
   "pygments_lexer": "ipython3",
   "version": "3.9.13"
  }
 },
 "nbformat": 4,
 "nbformat_minor": 5
}
