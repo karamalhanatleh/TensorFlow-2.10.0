{
 "cells": [
  {
   "cell_type": "markdown",
   "id": "afbd82eb",
   "metadata": {},
   "source": [
    "# constant\n"
   ]
  },
  {
   "cell_type": "code",
   "execution_count": 6,
   "id": "cbb06d82",
   "metadata": {},
   "outputs": [],
   "source": [
    "#import\n",
    "import tensorflow as tf\n"
   ]
  },
  {
   "cell_type": "code",
   "execution_count": null,
   "id": "54b72fc8",
   "metadata": {},
   "outputs": [],
   "source": []
  },
  {
   "cell_type": "code",
   "execution_count": 7,
   "id": "0268896b",
   "metadata": {},
   "outputs": [],
   "source": [
    "tf.compat.v1.disable_eager_execution() # need to disable eager in TF2. x  #sessions\n"
   ]
  },
  {
   "cell_type": "code",
   "execution_count": null,
   "id": "e768ab19",
   "metadata": {},
   "outputs": [],
   "source": []
  },
  {
   "cell_type": "code",
   "execution_count": 4,
   "id": "0969961c",
   "metadata": {},
   "outputs": [],
   "source": [
    "a=tf.constant(3)\n",
    "b=tf.constant(3,tf.float32)\n",
    "c=tf.constant([2,5,6,9,6])\n",
    "d=tf.constant([  [2,5,6],\n",
    "              \t[8,5,8],\n",
    "              \t[8,8,1]])\n",
    "e=tf.constant('My python tensorflow')"
   ]
  },
  {
   "cell_type": "code",
   "execution_count": 5,
   "id": "39a44ce5",
   "metadata": {},
   "outputs": [
    {
     "name": "stdout",
     "output_type": "stream",
     "text": [
      "3\n",
      "3.0\n",
      "[2 5 6 9 6]\n",
      "[[2 5 6]\n",
      " [8 5 8]\n",
      " [8 8 1]]\n",
      "b'My python tensorflow'\n"
     ]
    }
   ],
   "source": [
    "with tf.compat.v1.Session() as sess:\n",
    "    print(sess.run(a))\n",
    "    print(sess.run(b))\n",
    "    print(sess.run(c))\n",
    "    print(sess.run(d))\n",
    "    print(sess.run(e))"
   ]
  },
  {
   "cell_type": "code",
   "execution_count": null,
   "id": "0b5ca24d",
   "metadata": {},
   "outputs": [],
   "source": []
  }
 ],
 "metadata": {
  "kernelspec": {
   "display_name": "Python 3 (ipykernel)",
   "language": "python",
   "name": "python3"
  },
  "language_info": {
   "codemirror_mode": {
    "name": "ipython",
    "version": 3
   },
   "file_extension": ".py",
   "mimetype": "text/x-python",
   "name": "python",
   "nbconvert_exporter": "python",
   "pygments_lexer": "ipython3",
   "version": "3.9.13"
  }
 },
 "nbformat": 4,
 "nbformat_minor": 5
}
